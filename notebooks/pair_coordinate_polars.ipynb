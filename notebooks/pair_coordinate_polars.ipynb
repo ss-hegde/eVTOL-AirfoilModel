{
 "cells": [
  {
   "cell_type": "code",
   "execution_count": null,
   "metadata": {},
   "outputs": [],
   "source": [
    "# This code randomly select a number of airfoil coordinates and the cooresponding polar files and copies them to a new folder."
   ]
  },
  {
   "cell_type": "code",
   "execution_count": 12,
   "metadata": {},
   "outputs": [],
   "source": [
    "import os\n",
    "import random\n",
    "import shutil"
   ]
  },
  {
   "cell_type": "code",
   "execution_count": 13,
   "metadata": {},
   "outputs": [],
   "source": [
    "# Define the paths\n",
    "coordinates_folder = './airfoil_database/airfoil_coordinate_database/'\n",
    "polar_folder = './airfoil_database/airfoil_polar_database_csv/'\n",
    "output_folder = './small_database_training_csv/'\n",
    "\n",
    "# List the airfoil coordinate files\n",
    "coordinate_files = [f for f in os.listdir(coordinates_folder) if f.endswith('_coordinates.dat')]\n",
    "\n",
    "# Randomly select 200 airfoils\n",
    "selected_airfoils = random.sample(coordinate_files, 200)"
   ]
  },
  {
   "cell_type": "code",
   "execution_count": 14,
   "metadata": {},
   "outputs": [
    {
     "name": "stdout",
     "output_type": "stream",
     "text": [
      "Polar file for bw050209 not found!\n",
      "Polar file for naca001264a08cli0.2 not found!\n",
      "Polar file for jx-gs-10 not found!\n",
      "Files copied successfully.\n"
     ]
    }
   ],
   "source": [
    "# Iterate over selected airfoils and copy both coordinate and polar files\n",
    "for airfoil_file in selected_airfoils:\n",
    "    # Define source and destination for the airfoil coordinate file\n",
    "    airfoil_path = os.path.join(coordinates_folder, airfoil_file)\n",
    "    destination_airfoil_path = os.path.join(output_folder, airfoil_file)\n",
    "\n",
    "    # Copy the airfoil coordinate file to the new folder\n",
    "    shutil.copy(airfoil_path, destination_airfoil_path)\n",
    "\n",
    "    # Derive the corresponding polar filename\n",
    "    airfoil_name = airfoil_file.replace('_coordinates.dat', '')  # Remove the '.dat' extension\n",
    "    polar_filename = f'xf-{airfoil_name}-il-1000000.csv'\n",
    "    \n",
    "    # Check if the corresponding polar file exists in the polar folder\n",
    "    polar_path = os.path.join(polar_folder, polar_filename)\n",
    "    if os.path.exists(polar_path):\n",
    "        # Copy the polar file to the new folder\n",
    "        destination_polar_path = os.path.join(output_folder, polar_filename)\n",
    "        shutil.copy(polar_path, destination_polar_path)\n",
    "    else:\n",
    "        print(f\"Polar file for {airfoil_name} not found!\")\n",
    "\n",
    "print(\"Files copied successfully.\")"
   ]
  }
 ],
 "metadata": {
  "kernelspec": {
   "display_name": "Python 3",
   "language": "python",
   "name": "python3"
  },
  "language_info": {
   "codemirror_mode": {
    "name": "ipython",
    "version": 3
   },
   "file_extension": ".py",
   "mimetype": "text/x-python",
   "name": "python",
   "nbconvert_exporter": "python",
   "pygments_lexer": "ipython3",
   "version": "3.9.10"
  }
 },
 "nbformat": 4,
 "nbformat_minor": 2
}
